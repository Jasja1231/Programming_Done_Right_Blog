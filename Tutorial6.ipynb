{
 "cells": [
  {
   "cell_type": "markdown",
   "metadata": {},
   "source": [
    "### Git Intro\n",
    "Git is a version control system. Professional developers use it and you should, too. Almost all job postings require the candidate to know Git or some other version control system. And, I don't mean the GUI application or GitHub; I mean the command line tool that we're going to learn here. So, pay attention!<br>\n",
    "Git keeps track of the changes you make to your files in a project so that going back to an earlier version of your code would be easy. Going back between different versions of your code is as easy as typing a command. The details of how this is done is invisible to you, so that you see and use the same files no matter which version of your code you're using.<br>\n",
    "Another feature of Git is that it makes it easier for groups to work on the same project. Each team can make a copy of the original code, work on it without touching the original code, and merge the final code with other people's code.<br>\n",
    "What we are going to do in this tutorial is:<br>\n",
    "* Learn the different concepts of version control.\n",
    "* Learn the most useful Git commands.\n",
    "* Make a GitHub account and set it up to work with Git.\n",
    "* A Git and GitHub software development workflow<br>\n",
    "We will go through all of the above step by step. If you get stuck somewhere, you can watch the follwoing <a href=\"https://www.youtube.com/watch?v=mYjZtU1-u9Y\">video tutorial</a> instead of this tutorial. But, I think this tutorial goes through things at a slower pace than the videos and explains things a bit more clearly.\n"
   ]
  },
  {
   "cell_type": "markdown",
   "metadata": {},
   "source": [
    "###Step 1: Download Git and Set It Up\n",
    "In a terminal, type `git`. If you see an error, it means you have to download it. You can download it <a href=\"http://git-scm.com\">here</a>. Instructions for downloading and installing it on all operating systems are on that website. If you're using Linux, remember to put `sudo` before you try to install stuff!<br>\n",
    "Type `git` in a terminal now, you will see some helpful comments.<br>\n",
    "When you `commit` in Git (another word for saving the current state of your files and code to which you can come back in future), your user name and e-mail will be added to help other people figure out who did what. That's why the first thing we need to do know is to set a uesr name and an email for you. Type these two commands in a terminal:<br>\n",
    "<code>\n",
    "git config --global user.name \"Your Name\"\n",
    "git config --global user.email \"YourEmail@blah.blah\"\n",
    "</code>"
   ]
  },
  {
   "cell_type": "markdown",
   "metadata": {},
   "source": [
    "###Step 2: Create a Repository\n",
    "A repository (from now on we'll call it a 'repo') is a folder where your project files are. You can make any regular folder a repo. Once you've made a repo, the changes made to everything (folders and files) inside it will be tracked by Git. So, using the terminal, create a folder and go insdie it. Once inside, type this:<br>\n",
    "`git init`"
   ]
  },
  {
   "cell_type": "markdown",
   "metadata": {},
   "source": [
    "###Step 3: Seeing the Status\n",
    "The `status` command tells you what has changed in your repo. If you type `git status` in the terminal right now, you will see a message that says that nothing has changed. So, while you're in this repo, create a new file and put some code into it. All of the commands from now on should be typed in the terminal. So, type this:<br>\n",
    "`git status`\n",
    "Now, you will see the name of the file you just created under \"untracked files\"."
   ]
  },
  {
   "cell_type": "markdown",
   "metadata": {},
   "source": [
    "###Step 4: Adding to the Staging Area\n",
    "Before you can commit anything (save the current state of your repo to which you can come back in future), you have to add your changes to the staging area. Once something is in the staging area, it is ready to be committed. This way, you can decide what you would like to commit specifically. So, not all changes that you make have to committed. Remember that adding to the staging area does not mean that you've committed anything yet.<br>\n",
    "To add the file you just made to the staging area, do this:<br>\n",
    "`git add filename`<br>\n",
    "Or, if you want to add all changes to the staging area:<br>\n",
    "`git add .` (there's a dot at the end of the command)<br>\n",
    "Now, check the status:<br>\n",
    "`git status`<br>\n",
    "You will see what is ready to be committed."
   ]
  },
  {
   "cell_type": "markdown",
   "metadata": {},
   "source": [
    "###Step 5: Your First Commit\n",
    "Commits are different than simply saving your changes. After you save your code in a text editor, only a small number of previous changes are saved in the memory. If you restart the application, you will not be able to see what you've changed. Commits, however, keep track of all previous commits and let you go back and forth as many times to any previous change as you like.<br>\n",
    "Every commit needs to be documented. For example, for this commit you would have to leave a message saying \"first commit, added first file that contains blah blah\". To commit what's in the staging area and leave a comment:<br>\n",
    "`git commit -m \"first commit, added new file with some useless test code\"`<br>"
   ]
  },
  {
   "cell_type": "markdown",
   "metadata": {},
   "source": [
    "###Step 6: Log\n",
    "`git log`<br>\n",
    "This command shows what commits have been done so far. Enter it and see if you see the commit you just made."
   ]
  },
  {
   "cell_type": "markdown",
   "metadata": {},
   "source": [
    "###Removing files from the staging area\n",
    "Make a new file called 'dontInclude.txt' in your repo and save it. Check the status and add the new file to the staging area:<br>\n",
    "<code>\n",
    "git status\n",
    "git add dontInclude.txt\n",
    "git status\n",
    "</code>\n",
    "Let's say that you change your mind and don't want to commit this new file yet. Run this:<br>\n",
    "`git rm --cached dontInclude.txt`<br>\n",
    "`git status`<br>\n",
    "You just removed the file from the staging area. The status shows that the file is not \"untracked\"."
   ]
  },
  {
   "cell_type": "markdown",
   "metadata": {},
   "source": [
    "###Step 7: Changes in Files and Diff\n",
    "While in your repo, make some change to a file that is being tracked. Then, check the status.<br>\n",
    "Git will tell you that your file has been modified. To see exactly what has changed:<br>\n",
    "`git diff`<br>\n",
    "Git will show exactly which lines have been added (+) or removed (-).<br>\n",
    "Add the changes to the stagin area and do `git diff`. This time you will not see any changes. `git diff` shows only those changes that have been added to the staging area. To see the changes added to the staging area:<br>\n",
    "`git diff --cached`<br>\n",
    "Now, enter this command:<br>\n",
    "`git commit`<br>\n",
    "The default console text editor will open. This is where you will write your commit message or comment. Most of the time, if you're using Linux, either nano is now open or vi or vim. Type your message and press `:` then `w` then `q` meaning `:wq`(in vi or vim) or shift+x then y then enter in nano.<br>\n",
    "If you commit too many things and check the log, you'll get stuck in another editor. To get out of that one press shift then `z` then `z`.<br>"
   ]
  },
  {
   "cell_type": "markdown",
   "metadata": {},
   "source": [
    "####Some Useful Stuff\n",
    "To see a shorter version of Git's log, type:<br>\n",
    "`git log --oneline`<br>\n",
    "\n",
    "Before executing the next command, make a few other files and add some code to them and save them.<br>\n",
    "Check the status. You'll see a some info about which branch you are on and what you might want to do next.<br>\n",
    "`git status -s`<br>\n",
    "This command is very useful when the only thing you want to see is the name of the files that have been modified.<br>\n",
    "Before going to the next step, do a `git diff` and read every line that is displayed to get comfortable with how Git represents insertions (code added) and deletions (code deleted). If you've changed more than a few things, you'll see another one of those screens where you can get stuck. Use the arrow keys to scroll down and see the details on all changes. When done, press `q`.<br>\n",
    "\n",
    "There's a shortcut for adding and committing your changes in one line. I use this method only when I've made a small change and I'm sure that I want it to be committed. This is usually true when I read my old code and add comments to make the code more readable.<br>\n",
    "`git commit -a -m \"message\"`<br>\n",
    "This will add all changes to the staging are and commit them with a message.<br>\n",
    "\n",
    "We know that adding changes to existing or added files is done by `git add fileName`. But, this will not work if you have deleted a file. To add a change that consists of deleting a file:<br>\n",
    "`git rm fileName`<br>\n"
   ]
  },
  {
   "cell_type": "markdown",
   "metadata": {},
   "source": [
    "###Step 8: Connecting to GitHub\n",
    "Most students don't have the time or patience to learn Git. What they learn instead is GitHub. GitHub has a GUI application that makes everything we've done so far in Git visual. It's easy to learn and it just works.<br>\n",
    "You should use these GUI applications only if:<br>\n",
    "* You know what version control systems do (adding, staging area, commit, branches, push, pull, fork, etc.)\n",
    "* You have used Git in the terminal for at least a few projects that required you to work with other people\n",
    "* You are confident that the GUI application makes your workflow more efficient"
   ]
  },
  {
   "cell_type": "markdown",
   "metadata": {},
   "source": [
    "If the above 3 conditions apply to you, then you probably do not use any GUI Git apps!<br>\n",
    "To be honest with you, I've heard that most professional developers look down on people who use GitHub's or other GUI applications. And, I've never seen knowing GitHub as a requirement for a job. The reasons why follow:<br>\n",
    "Using Git in the terminal is really not that hard. What makes Git hard for some people is the concepts of version control systems. You can learn all the git commands that you need in 10 minutes. What is hard is using Git within a group of developers to build some software. And, that my friend, is the real reason employers want to know if you know Git. Understanding software development using a version control system happens only if you've used within a group.<br>\n",
    "The other thing is that when you work within a team at some company, you will not put your code on GitHub. Git will be run locally only.<br>"
   ]
  },
  {
   "cell_type": "markdown",
   "metadata": {},
   "source": [
    "I want to teach you how you can connect to GitHub using the terminal so that we can start working on projects together. And, from now on you will be required to keep all of your code on your GitHub account to make it easy for me to check it out.<br>"
   ]
  },
  {
   "cell_type": "markdown",
   "metadata": {},
   "source": [
    "To connect to GitHub, you need to have a ssh key. ssh keys have a public and a private part. The private part stays on your computer, and the public part should be added to your GitHub account.<br>\n",
    "If you have already installed GitHub's GUI app, you already have ssh key that is shared with GitHub. So, you don't need to do this part of the tutorial. If you've not used the GUI app on the operating system you're using right now, you should follow the following instructions closely!<br>\n",
    "1. Go to your home folder. In windows, press the start button and click the folder that is under the user's picture. The folder's name is the same as the current user's name. See if there's a `.ssh` folder there.<br>\n",
    "In Linux, do `cd ~` then `find .ssh`. If anythin comes up, then you have a ssh key.<br>\n",
    "2. If you don't have this `.ssh` folder, then you need to make sure you have a ssh key generator. In a terminal, type `ssh`.\n",
    "3. Assuming that `ssh` did not throw an error in your terminal, do this:<br>\n",
    "`ssh-keygen -t rsa -C \"youremail@blah.com\"`<br>\n",
    "You will be shows where this key will be stored. Press `Enter`. Then enter your phrase key or password. You will use it whenever you use this ssh key.<br>\n",
    "4. Now that you have generated a new ssh key, go to the folder where it's located. Find and open the `.pub` file. Copy the whole line. You'll need it to set up a connection with GitHub.<br>\n",
    "5. Go to your GitHub.com account's settings.<br>\n",
    "6. Go to `ssh keys`.<br>\n",
    "7. Then, `Add SSH key`.<br>\n",
    "8. Choose a title that will be helpful for identifying this connection. If you're using multiple computers or operating systems that you want to be connected to GitHub, you will have to go through all the above steps for each one of them. In this page on GitHub, you will see all the connected machines.<br>\n",
    "9. Confirm your password (may not be necessary).<br>"
   ]
  },
  {
   "cell_type": "markdown",
   "metadata": {},
   "source": [
    "####Checking Your Connection to GitHub\n",
    "Go to a terminal and type:<br>\n",
    "`ssh -T git@github.com`<br>\n",
    "Type `yes` to continue. Enter your key phrase.<br>\n",
    "You will see a message that says you've been successfully authenticated.<br>"
   ]
  },
  {
   "cell_type": "markdown",
   "metadata": {},
   "source": [
    "###Step 9: Pushing to GitHub\n",
    "Create a folder for a new project and add some files and code to it.<br>\n",
    "Initialize a Git repo in that folder and reivew the status of the repo.<br>\n",
    "Add and commit changes using a helpful comment.<br>\n",
    "Pushing is committing to a remote location. In our case, the remote location is GitHub.<br>\n",
    "Go to your GitHub account and make a new repo without a readme file. Once inside that repo, you will see its https or ssh key. Copy it.<br>\n",
    "Before we push, we need to give the remote location a name:<br>\n",
    "`git remote add locationName sshOrHttpsKey`<br>\n",
    "`locationName` is name you will give to this remote location (meaning GitHub).<br>\n",
    "`sshOrHttpsKey` is the key you just copied from the GitHub page of the GitHub repo you just created.<br>\n",
    "If the command is successful, you will see nothing.<br>"
   ]
  },
  {
   "cell_type": "markdown",
   "metadata": {},
   "source": [
    "Now, you push the changes to the master branch (I'll explain what a branch is later) which is the default branch when you create a new repo:<br>\n",
    "`git push locationName master`<br>\n",
    "Then, you have to enter your user name for GitHub if you've used the GitHub desktop application so far. If you did the ssh key setup manually, you'll be asked to enter your key phrase or password.<br>\n",
    "If all goes well, you'll see something like this:<br>\n",
    "<code>\n",
    "Counting objects: 7, done.\n",
    "Delta compression using up to 4 threads.\n",
    "Compressing objects: 100% (4/4), done.\n",
    "Writing objects: 100% (4/4), 399 bytes | 0 bytes/s, done.\n",
    "Total 4 (delta 1), reused 0 (delta 0)\n",
    "</code>\n",
    "\n",
    "###An Error Explained\n",
    "I tried adding files to a GitHub repo that I had created long time ago and got some errors. This is what happened: the GitHub repp contained a folder and some files in it. I created a Git repo on my machine and added some files and code to it. Then, I made ssh keys and added the public one to my GitHub. The next step was making a connection to the GitHub repo where I wanted to push my files and giving it a name. So far, no errors yet. When I tried pushing, I got a bunch of errors telling me that I had to \"pull\" first before I could push.<br>\n",
    "\"Pulling\" means downloading code that is on a GitHub repo. The command is `git pull locationName master`. This will download the master branch of the GitHub repo that you identified as locationName.<br>\n",
    "So, after you pull, the files in that GitHub repo will be downloaded to your machine. They will be added to the master branch of the Git repo on your machine. Now, you can do a `push`.<br>\n"
   ]
  },
  {
   "cell_type": "markdown",
   "metadata": {},
   "source": [
    "##Step 10: Branching, Merging, and Cloning\n",
    "###A Scenario\n",
    "Let's say that you want to implement two features for your website. Since you don't have enough time to do this, you bring in your friend to help you out. Version 1.0 of your website is already published and is being used by users. So, you can't touch the original code! What you would do normally (normal for a person who hastn't taken a tutorial like this one) is create a copy of the original code. But, you have to give a copy of the code to your friend, too.<br>\n",
    "\n",
    "So, now you have 3 copies of the code. You two start coding and implementing those two features. Each of you has a different copy of the code, so you'd have to e-mail (or share a foldre on Google Drive or something) to keep your code synchronized. To let your friend know what changes you're making to the files, you'll have to leave hundreds of lines of comments. When you run the code, there are an error. Why? Because your friend started doing something but is not finished yet. <br>\n",
    "\n",
    "Now, you two decide that you should really keep your files seperate, because you can't read every line of every file to know what the other person has changed every time you want to code. All is well for a couple of days. There comes a day when you want to incorporate your and your friend's code into Version 1.0 to see if what you've been doing even works. You two sit together and go through every line of every file trying to combine your code.<br>\n",
    "\n",
    "I hope you see that doing a project in a group of 10 people like this will be impossible.<br>\n",
    "\n",
    "Enter Git and branching. You can think of what branching does as making a copy of all of your files in the repo. But, you won't see any copies of your files. You will always be working on the same files.<br>\n",
    "You finally decide to use Git. You make a branch from Version 1.0 for yourself. Your friend does the same for himself. Your branch is called 'feature1' and his 'feature2'. The Version 1.0 branch remains as the 'master' branch. Why master? Because it holds the code that your customers are using. So, messing with it can have huge consequences. You will combine your changes with the master branch (combining two branches is called merging) only when you've tested it and you are sure that it works and is ready to be used by the customer.<br>\n",
    "\n",
    "One day, a customer tells you that there's something wrong with the website. You know how to fix it because the code is in the master branch. You're currently working in the 'feature1' branch. So, you change the branch by entering ONE command in the terminal. Magically, all the files that you have open in front of you change to the master branch's files. You realize that have fallen in love with Git!<br>\n",
    "\n",
    "In the next section, we will go through a scenario similar to the one above using Git. Make sure you follow every step on your machine and GitHub account.<br>"
   ]
  },
  {
   "cell_type": "markdown",
   "metadata": {},
   "source": [
    "##A Sample Workflow\n",
    "Some company has already made a version 1.0 of their software. This version is in the master branch right now. Two teams are working towards version 2.0 by adding two features to v.1.0. Team A has already started coding: they had v.1 on their computers before, so all they had to do was make a new branch. But, Team B needs to first clone the master, and then make a branch.<br>\n",
    "You can simulate this situation using only one computer. Make two folder. Each folder will be a repo for a team. Open two terminal windows side by side. Each terminal will simulate a team's repo.<br>\n",
    "###Team A\n",
    "Make folder and put a 'readme.md' file into. This readme file tells the user of the repo what the repo is about and how it can be used. Initialize a git in that folder.<br>\n",
    "Commit changes made so far.<br>\n",
    "Make a GitHub repo with same name and copy its ssh key.<br>\n",
    "Connect to this remore repo: `git remote add name ssh_key`<br>\n",
    "Push your local repo's master branch to GitHub: `git push name master`<br>\n",
    "Your readme file should be in the GitHub repo right now.<br>\n",
    "Now, we make version 1.0. Add a couple of files to your local repo and do some coding.<br>\n",
    "Commit changes and push to GitHub.<br>\n",
    "We're done with v.1.0, so we want to start coding the new features. Team A needs to make a new branch. To see the list of all branches:<br>\n",
    "`git branch`<br>\n",
    "Make a new branch called 'teama': `git branch teama`<br>\n",
    "Now, if you do a `git branch` you'll see a * next to the master branch. Go to the other branch: `git checkout mastera`<br>"
   ]
  },
  {
   "cell_type": "markdown",
   "metadata": {},
   "source": [
    "###Team B\n",
    "Team B has none of the code right now. So, they need to get version 1.0 first.<br>\n",
    "Copy the ssh key of the GitHub repo where the master branch is. Make another folder on you computer. This folder is where Team B will put their code. Initialize a git here.<br>\n",
    "Now, Team B needs to copy the code from that GitHub repo. This process of getting code from a remote repo is called cloning.<br>\n",
    "`git clone ssh_key`<br>\n",
    "Do a log of your repo and you'll see that you have the master branch. Since the other team did not push their brach, you don't have their branch in your folder.<br>\n",
    "Make a branch called 'teamb' and add some files and code. Commit changes.<br>\n",
    "To push your branch, you need to first make a remote repo: `git add remote name ssh_hey`<br>\n",
    "Push teamb branch: `git push name teamb`<br>"
   ]
  },
  {
   "cell_type": "markdown",
   "metadata": {},
   "source": [
    "###Team A\n",
    "Team A can now see 2 branches on GitHub.<br>\n",
    "Write some new code and commit changes. Check the log.<br>\n",
    "Push your branch to GitHub. Now, there are 3 branches on GitHub.<br>"
   ]
  },
  {
   "cell_type": "markdown",
   "metadata": {},
   "source": [
    "As the teams are working on the features, you are notified of a bug in version 1.0.<br>\n",
    "###Team B\n",
    "They change their branch to the master branch: `git checkout master`<br>\n",
    "Make some changes to this branch to fix the bug. Commit changes and push to GitHub.<br>\n",
    "Now, got to this team's branch: `git checkout teamb`<br>\n",
    "Notice that changes made to the master branch are not reflected in this branch yet. What needs to be done is called \"merging\".<br>\n",
    "`git merge master`<br>\n",
    "master is the branch that will be merged with the current branch (teamb).  Since, the code in the original master branch is different that the one in the fixed version, there will be some conflicts. Git will tell you that there are conflicts after you merge the master branch. Fixing the conflicts is done manually.<br>\n",
    "Let's say that the code fixed was in a 'index.html' file. If you go to that file (or whatever file where you added fixes), you'll see that Git has added some stars and <<<< to highlight the conflicts.<br>\n",
    "Remove the code that is not needed and the stars and <<<< stuff. Commit changes. Push to GitHub.<br>"
   ]
  },
  {
   "cell_type": "markdown",
   "metadata": {},
   "source": [
    "###Team A\n",
    "Team A knows that a bug has been fixed. They should merge branches. Merging a remote repo with a local repo is called pulling.<br>\n",
    "Merge Team A's master branch with the master branch on GitHub. You need to be in Team A's master branch first: `git pull remote_name master`<br>\n",
    "Resolve the conflicts and commit changes.<br>\n",
    "Changes in the master branch are not reflected in branch 'teama' yet. So, go to this branch and merge it with master:<br>\n",
    "<code>\n",
    "git checkout teama\n",
    "git merge master\n",
    "</code>\n",
    "Resolve the conflicts and commit changes."
   ]
  },
  {
   "cell_type": "markdown",
   "metadata": {},
   "source": [
    "Please repeat this tutorial if things are still not clear. From now on, we will be using Git and GitHub to do projects and exercises.<br>"
   ]
  },
  {
   "cell_type": "code",
   "execution_count": null,
   "metadata": {
    "collapsed": true
   },
   "outputs": [],
   "source": []
  }
 ],
 "metadata": {
  "kernelspec": {
   "display_name": "Python 2",
   "language": "python",
   "name": "python2"
  },
  "language_info": {
   "codemirror_mode": {
    "name": "ipython",
    "version": 2
   },
   "file_extension": ".py",
   "mimetype": "text/x-python",
   "name": "python",
   "nbconvert_exporter": "python",
   "pygments_lexer": "ipython2",
   "version": "2.7.9"
  }
 },
 "nbformat": 4,
 "nbformat_minor": 0
}
