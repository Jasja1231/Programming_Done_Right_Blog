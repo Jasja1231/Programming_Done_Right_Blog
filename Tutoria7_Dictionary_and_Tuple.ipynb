{
 "cells": [
  {
   "cell_type": "markdown",
   "metadata": {},
   "source": [
    "##Dictionaries\n",
    "Like lists, dictionaries can hold any mix of objects. In lists, we use integer indices to access some value in the list. In dictionaries, an index can be (almost) any type. Let's a make dictionary that will translate numbers from English to Polish using a dictionary objects:<br>"
   ]
  },
  {
   "cell_type": "code",
   "execution_count": 6,
   "metadata": {
    "collapsed": false
   },
   "outputs": [
    {
     "name": "stdout",
     "output_type": "stream",
     "text": [
      "jeden\n"
     ]
    }
   ],
   "source": [
    "# First, we add to key-value pairs\n",
    "numbers = {'one': 'jeden', 'two': 'dwa'}\n",
    "# Now we access the value that 'one' points to, 'one' is an index\n",
    "print numbers['one']"
   ]
  },
  {
   "cell_type": "markdown",
   "metadata": {},
   "source": [
    "We enter items into a dictionary as key-value pairs. The keys in the above dictionary are of type `str` and their corresponding values are of type `str` as well. To access a value, we use its index: `numbers['two']`<br>\n",
    "Keys can have any type. Values can be any object. For example:<br>"
   ]
  },
  {
   "cell_type": "code",
   "execution_count": 16,
   "metadata": {
    "collapsed": false
   },
   "outputs": [
    {
     "name": "stdout",
     "output_type": "stream",
     "text": [
      "jeden\n"
     ]
    }
   ],
   "source": [
    "numbers = {1: 'jeden', 2: 'dwa'}\n",
    "print numbers[1]"
   ]
  },
  {
   "cell_type": "markdown",
   "metadata": {},
   "source": [
    "To add items to a dictionary:<br>"
   ]
  },
  {
   "cell_type": "code",
   "execution_count": 17,
   "metadata": {
    "collapsed": false
   },
   "outputs": [
    {
     "name": "stdout",
     "output_type": "stream",
     "text": [
      "trzy\n"
     ]
    }
   ],
   "source": [
    "numbers[3] = 'trzy'\n",
    "print numbers[3]"
   ]
  },
  {
   "cell_type": "markdown",
   "metadata": {},
   "source": [
    "To delete a key-value pair:"
   ]
  },
  {
   "cell_type": "code",
   "execution_count": 18,
   "metadata": {
    "collapsed": false
   },
   "outputs": [
    {
     "name": "stdout",
     "output_type": "stream",
     "text": [
      "{1: 'jeden', 2: 'dwa'}\n"
     ]
    }
   ],
   "source": [
    "del(numbers[3])\n",
    "print numbers"
   ]
  },
  {
   "cell_type": "markdown",
   "metadata": {},
   "source": [
    "To loop through all the values:"
   ]
  },
  {
   "cell_type": "code",
   "execution_count": 19,
   "metadata": {
    "collapsed": false
   },
   "outputs": [
    {
     "name": "stdout",
     "output_type": "stream",
     "text": [
      "jeden\n",
      "dwa\n"
     ]
    }
   ],
   "source": [
    "for key in numbers:\n",
    "    print numbers[key]"
   ]
  },
  {
   "cell_type": "markdown",
   "metadata": {},
   "source": [
    "Dictionaries are not ordered unlike lists. When you're using a list, you can be assured that adding to the end of it will not change the order of previous items. This is not true in dictionaries. Adding an item to a dictionary can change the position of many key-value pairs in a way that is unpredictable. This is not a problem, the values are indexed based on integers starting from zero. You can define what the index of each value is. So, never treat a dictionary as an ordered collection.<br>\n",
    "Like lists, you can use the len funciton to find number of key-value pairs in a dictionary:<br>"
   ]
  },
  {
   "cell_type": "code",
   "execution_count": 20,
   "metadata": {
    "collapsed": false
   },
   "outputs": [
    {
     "name": "stdout",
     "output_type": "stream",
     "text": [
      "2\n"
     ]
    }
   ],
   "source": [
    "print len(numbers)"
   ]
  },
  {
   "cell_type": "markdown",
   "metadata": {},
   "source": [
    "To see if a key or index is in a dictionary:<br>"
   ]
  },
  {
   "cell_type": "code",
   "execution_count": 22,
   "metadata": {
    "collapsed": false
   },
   "outputs": [
    {
     "name": "stdout",
     "output_type": "stream",
     "text": [
      "True\n",
      "False\n"
     ]
    }
   ],
   "source": [
    "print 1 in numbers\n",
    "print 3 in numbers"
   ]
  },
  {
   "cell_type": "markdown",
   "metadata": {},
   "source": [
    "To get a list of all values in a dictionary:<br>"
   ]
  },
  {
   "cell_type": "code",
   "execution_count": 23,
   "metadata": {
    "collapsed": false
   },
   "outputs": [
    {
     "name": "stdout",
     "output_type": "stream",
     "text": [
      "['jeden', 'dwa']\n"
     ]
    }
   ],
   "source": [
    "print numbers.values()"
   ]
  },
  {
   "cell_type": "markdown",
   "metadata": {},
   "source": [
    "One advantage of dictionaries compared to lists is the time complexity of the `in` operator. In a list, typing `value in List` makes Python search for `value` in the `List`. The running time of this operation depends on the size of the list. This can sometimes be a problem if you have a huge list with millions of values in it. But, in dictionaries, the `in` operator has a constant complexity. No matter how big the dictionary is, it always take same amount of time to find a key in a dictionary and its value.<br>"
   ]
  },
  {
   "cell_type": "markdown",
   "metadata": {},
   "source": [
    "To see how using a dictionary as a data structure can be beneficial, consider the case counting the number of times a letter appears in a document (letter frequency). One way to do it, would be to make 26 variables for each letter in the alphabet. Another way would be to use a list. You'd have to assign each index starting from zero to a letter:<br>\n",
    "0 -> a<br>\n",
    "1 -> b<br>\n",
    "...<br>\n",
    "This solutions would work, but they are not elegant. You'll write a lot of unneccary code. The best way would be to use a dictionary:<br>"
   ]
  },
  {
   "cell_type": "code",
   "execution_count": 27,
   "metadata": {
    "collapsed": false
   },
   "outputs": [
    {
     "name": "stdout",
     "output_type": "stream",
     "text": [
      "{'a': 2, 'c': 1, 'b': 2, 'e': 1, 'd': 2, 'f': 1}\n"
     ]
    }
   ],
   "source": [
    "def letter_counter(string):\n",
    "    frequency = dict() # same as counter = {}, dict() is a constructor\n",
    "    for letter in string:\n",
    "        if letter in frequency:\n",
    "            frequency[letter] += 1 # if the letter has is repeated, add 1 to its frequency\n",
    "        else:\n",
    "            frequency[letter] = 1\n",
    "    return frequency\n",
    "\n",
    "print letter_counter('abcadefbd')"
   ]
  },
  {
   "cell_type": "code",
   "execution_count": 29,
   "metadata": {
    "collapsed": false
   },
   "outputs": [
    {
     "name": "stdout",
     "output_type": "stream",
     "text": [
      "{'a': 2, 'c': 1, 'b': 2, 'e': 1, 'd': 2, 'f': 1}\n"
     ]
    }
   ],
   "source": [
    "def letter_counter(string):\n",
    "    frequency = dict()\n",
    "    for letter in string:\n",
    "        frequency[letter] = frequency.get(letter, 0) + 1\n",
    "    return frequency\n",
    "\n",
    "print letter_counter('abcadefbd')"
   ]
  },
  {
   "cell_type": "markdown",
   "metadata": {},
   "source": [
    "The `get` dictionary method returns the value of an index if it exists, or a default value if it doesn't.<br>"
   ]
  },
  {
   "cell_type": "markdown",
   "metadata": {},
   "source": [
    "To show you how you can work with dictionaries, I will write a function that takes a letter frequency dictionary and returns an alphabetical list of letters with their corresponding value:"
   ]
  },
  {
   "cell_type": "code",
   "execution_count": 34,
   "metadata": {
    "collapsed": false
   },
   "outputs": [
    {
     "name": "stdout",
     "output_type": "stream",
     "text": [
      "a   3\n",
      "b   1\n",
      "d   2\n",
      "e   1\n",
      "f   1\n",
      "h   2\n",
      "s   1\n",
      "w   1\n",
      "z   1\n"
     ]
    }
   ],
   "source": [
    "def print_frequency(frequency):\n",
    "    letters = sorted(frequency.keys())\n",
    "    for letter in letters:\n",
    "        print '{}   {}'.format(letter, frequency[letter])\n",
    "\n",
    "freq = letter_counter('adbadafhhewsz')\n",
    "print_frequency(freq)"
   ]
  },
  {
   "cell_type": "markdown",
   "metadata": {},
   "source": [
    "###Exercise 13\n",
    "Make a function that takes a word frequency dictionary and returns another dictionary that contains as keys frequencies (integers like 1,2, etc.) and as values letters that have occured with that frequency. Hint: you can use lists as values in dictionaries.<br>\n",
    "###Exercise 14\n",
    "Make a fibonacci function that uses recursion and a dictionary that keeps track of already computed fibonacci values. The first couple of entries in this dictionary: `{0:0, 1:1}`<br>"
   ]
  },
  {
   "cell_type": "markdown",
   "metadata": {},
   "source": [
    "##Global Variables Revisited\n",
    "A variable is considered global when it is defined outside any function or class. Their scope is in `__main__`.<br>"
   ]
  },
  {
   "cell_type": "code",
   "execution_count": 35,
   "metadata": {
    "collapsed": false
   },
   "outputs": [
    {
     "name": "stdout",
     "output_type": "stream",
     "text": [
      "sth\n"
     ]
    }
   ],
   "source": [
    "glob_var = True\n",
    "\n",
    "def print_sth():\n",
    "    if glob_var:\n",
    "        print 'sth'\n",
    "    else:\n",
    "        pass\n",
    "    \n",
    "print_sth()"
   ]
  },
  {
   "cell_type": "markdown",
   "metadata": {},
   "source": [
    "But, if you try to change the value of a global variable within an inner scope(like in a function), you would make a local variable with the same name:"
   ]
  },
  {
   "cell_type": "code",
   "execution_count": 38,
   "metadata": {
    "collapsed": false
   },
   "outputs": [
    {
     "name": "stdout",
     "output_type": "stream",
     "text": [
      "sth\n"
     ]
    }
   ],
   "source": [
    "glob_var = False\n",
    "\n",
    "def print_sth():\n",
    "    glob_var = True\n",
    "    if glob_var:\n",
    "        print 'sth'\n",
    "    else:\n",
    "        pass\n",
    "    \n",
    "print_sth()"
   ]
  },
  {
   "cell_type": "markdown",
   "metadata": {},
   "source": [
    "You were expecting the function to not print, but it did. `glob_var` within the `print_sth` function is a local variable that has nothing to do with the global `glob_var` variable.<br>\n",
    "To modify the value of a global variable within an inner scope, you'll have to use the `global` keyword:<br>"
   ]
  },
  {
   "cell_type": "code",
   "execution_count": 39,
   "metadata": {
    "collapsed": false
   },
   "outputs": [
    {
     "name": "stdout",
     "output_type": "stream",
     "text": [
      "1\n"
     ]
    }
   ],
   "source": [
    "counter = 0\n",
    "\n",
    "def do_sth():\n",
    "    global counter # you're telling Python that counter in this function is a global variable\n",
    "    counter += 1\n",
    "\n",
    "do_sth()\n",
    "print counter\n",
    "    "
   ]
  },
  {
   "cell_type": "markdown",
   "metadata": {},
   "source": [
    "If you don't announce that `counter` is a global variable, you'll get an error:"
   ]
  },
  {
   "cell_type": "code",
   "execution_count": 41,
   "metadata": {
    "collapsed": false
   },
   "outputs": [
    {
     "ename": "UnboundLocalError",
     "evalue": "local variable 'counter' referenced before assignment",
     "output_type": "error",
     "traceback": [
      "\u001b[0;31m---------------------------------------------------------------------------\u001b[0m",
      "\u001b[0;31mUnboundLocalError\u001b[0m                         Traceback (most recent call last)",
      "\u001b[0;32m<ipython-input-41-d3a61a12aca8>\u001b[0m in \u001b[0;36m<module>\u001b[0;34m()\u001b[0m\n\u001b[1;32m      5\u001b[0m     \u001b[0mcounter\u001b[0m \u001b[0;34m+=\u001b[0m \u001b[0;36m1\u001b[0m\u001b[0;34m\u001b[0m\u001b[0m\n\u001b[1;32m      6\u001b[0m \u001b[0;34m\u001b[0m\u001b[0m\n\u001b[0;32m----> 7\u001b[0;31m \u001b[0mdo_sth\u001b[0m\u001b[0;34m(\u001b[0m\u001b[0;34m)\u001b[0m\u001b[0;34m\u001b[0m\u001b[0m\n\u001b[0m\u001b[1;32m      8\u001b[0m \u001b[0;32mprint\u001b[0m \u001b[0mcounter\u001b[0m\u001b[0;34m\u001b[0m\u001b[0m\n",
      "\u001b[0;32m<ipython-input-41-d3a61a12aca8>\u001b[0m in \u001b[0;36mdo_sth\u001b[0;34m()\u001b[0m\n\u001b[1;32m      3\u001b[0m \u001b[0;32mdef\u001b[0m \u001b[0mdo_sth\u001b[0m\u001b[0;34m(\u001b[0m\u001b[0;34m)\u001b[0m\u001b[0;34m:\u001b[0m\u001b[0;34m\u001b[0m\u001b[0m\n\u001b[1;32m      4\u001b[0m     \u001b[0;31m# global counter # you're telling Python that counter in this function is a global variable\u001b[0m\u001b[0;34m\u001b[0m\u001b[0;34m\u001b[0m\u001b[0m\n\u001b[0;32m----> 5\u001b[0;31m     \u001b[0mcounter\u001b[0m \u001b[0;34m+=\u001b[0m \u001b[0;36m1\u001b[0m\u001b[0;34m\u001b[0m\u001b[0m\n\u001b[0m\u001b[1;32m      6\u001b[0m \u001b[0;34m\u001b[0m\u001b[0m\n\u001b[1;32m      7\u001b[0m \u001b[0mdo_sth\u001b[0m\u001b[0;34m(\u001b[0m\u001b[0;34m)\u001b[0m\u001b[0;34m\u001b[0m\u001b[0m\n",
      "\u001b[0;31mUnboundLocalError\u001b[0m: local variable 'counter' referenced before assignment"
     ]
    }
   ],
   "source": [
    "counter = 0\n",
    "\n",
    "def do_sth():\n",
    "    # global counter # you're telling Python that counter in this function is a global variable\n",
    "    counter += 1\n",
    "\n",
    "do_sth()\n",
    "print counter"
   ]
  }
 ],
 "metadata": {
  "kernelspec": {
   "display_name": "Python 2",
   "language": "python",
   "name": "python2"
  },
  "language_info": {
   "codemirror_mode": {
    "name": "ipython",
    "version": 2
   },
   "file_extension": ".py",
   "mimetype": "text/x-python",
   "name": "python",
   "nbconvert_exporter": "python",
   "pygments_lexer": "ipython2",
   "version": "2.7.9"
  }
 },
 "nbformat": 4,
 "nbformat_minor": 0
}
