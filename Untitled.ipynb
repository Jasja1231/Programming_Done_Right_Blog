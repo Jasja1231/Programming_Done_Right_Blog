{
 "cells": [
  {
   "cell_type": "markdown",
   "metadata": {},
   "source": [
    "# Testing\n",
    "Good programmers design their programs so that testing and debugging them will be easy. That’s why we learned how to break a program into functions. We learned that each function within our program should have a very specific duty which should be detailed in its docstrings. Docstrings are a step towards developing software the right way. \n",
    "\n",
    "Ideally, every single function has to be tested by a group of tests called a Test Suite. The goal of a test suite is to reveal the bugs in our program. But this does not mean that if a test suite doesn’t reveal any bugs in our functions then our functions are bug-free. Proving that a function is absolutely bug-free is a very challenging - and sometimes impossible - task.\n",
    "\n",
    "A test suite contains tests that evaluate the correct behavior of a function on inputs that the programmer thinks will cause the function to misbehave. For example, if we have a function that takes the square root of a number, we definitely want to check the function’s behavior when the input is a negative number.\n",
    "\n",
    "As you might remember, the guidelines in Tutorial 2 suggested that we design tests before we write the functions. Now you know why we do that. By designing our tests first, we are forced to think about those conditions that will break our code. Therefore, we find most of the bugs before we even implement the function.\n",
    "\n",
    "Another reason why professionals do unit testing is to make sure that changing the code does not break previous code. In large programs, it is common that a programmer simply forgets what each function is supposed to do and how its implementation affecs the behavior of other functions. So, when a new feature is added or a bug is fixed, a good programmer tests the correctness of the whole program to make sure that previous functionalities stil hold.\n",
    "\n",
    "There are a few ways we can implement our tests in Python. The simplest way is to make a tester function for each function. In this tester function, you evaluate how your function behaves when it's given specific inputs that are designed to break it. The tester function would have to print messages that tell the reader exactly which test failed. \n",
    "\n",
    "An easier - but more sophisticated - way is to use Python’s unittest module. This module automates and standardizes unit testing in Python. \n",
    "\n",
    "So far, we’ve talked about a category of tests called unit tests. There is another category of tests called Black-Box tests or Functional Tests. In functional testing, we test features of our program without knowing anything about how our program is implemented. Functional tests are usually driven by user stories. A user story goes through every step that a user takes when he/she uses our program. For example, if you are making an e-mail application, a potential user story might be:\n",
    "\t1\tUser types the name of our program in the command line.\n",
    "\t2\tUser is provided with a list of options (send e-mail, quit)\n",
    "\t3\tAssume that the user has selected to send an e-mail. Then, the user is asked to enter his/her e-mail information (username and password)\n",
    "\t4\tThen, the address of the recipient\n",
    "\t5\tThen, the message to be sent\n",
    "\t6\tFinally, a menu that will allow the user to see all the information that was typed and either confirm or choose to modify something.\n",
    "Obviously, the details of functional tests depend on the features of our program. Designing functional tests also forces us to think seriously about what we want our program to do.\n",
    "\n",
    "Notice that the above functional test would be quite hard to implement and will probably have its own bugs! That's why large programs are usually tested by many functional tests. Each functional test is based on a user story and each user story is in turn based on one feature of our program. \n",
    "\n",
    "The good news is that depending on the area of your expertise, there usually are some modules that help with functional testing. For example, Selenium is a framework that tests web applications. It can open a browser, navigate through a website, fill out forms, click on buttons, and receive read messages sent by the server. Many user stories in web development can be simulated and automated using Selenium.\n",
    "\n",
    "As you see, the subject of testing is not something we can cover in just one tutorial or even a whole series of tutorials.  There  are books written on this subject. What we need to understand and learn right now is that a good programmer must consider tests at some point in the development cycle. Most professionals believe that designing tests should happen before the actual program is implemented. In fact, a methodology called Test Driven Development is based on the idea that  implementing a program must be driven by tests at each step.\n",
    "\n",
    "##Unittest\n",
    "`unittest` is a Python library that makes unit testing easy and streamlined. Let's say we are trying to make a program that \n"
   ]
  },
  {
   "cell_type": "code",
   "execution_count": null,
   "metadata": {
    "collapsed": true
   },
   "outputs": [],
   "source": []
  }
 ],
 "metadata": {
  "kernelspec": {
   "display_name": "Python 2",
   "language": "python",
   "name": "python2"
  },
  "language_info": {
   "codemirror_mode": {
    "name": "ipython",
    "version": 2
   },
   "file_extension": ".py",
   "mimetype": "text/x-python",
   "name": "python",
   "nbconvert_exporter": "python",
   "pygments_lexer": "ipython2",
   "version": "2.7.9"
  }
 },
 "nbformat": 4,
 "nbformat_minor": 0
}
