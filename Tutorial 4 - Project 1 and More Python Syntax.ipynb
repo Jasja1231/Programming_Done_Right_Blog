{
 "cells": [
  {
   "cell_type": "markdown",
   "metadata": {},
   "source": [
    "##Project 1: Cipher\n",
    "As promised, the way we will learn Python will be through problem solving. This means that first we will design a program based on the principles that we discussed in <a href=\"http://miokt.blogspot.com/2015/03/tutorial-2-quick-intro-to-python.html\">Tutorial 2: Why Python and Some Basic Skills</a>. We will go through all the steps. Once we get to the Coding step, I will show you how to use Python to make our program. \n",
    "The first project we will do is a cipher. A cipher is an algorithm that encrypts and decrypts information(strings). You can learn more about ciphers <a href=\"http://en.wikipedia.org/wiki/Cipher\">here</a>. \n",
    "<ol>\n",
    "    <li>Problem definition: we want to make a program that encrypts a message or password and also decrypts it back to the original text. The text is of type string. So, integers and floats and all special characters will be treated as chars in a string.</li>\n",
    "    <li>Features and functionality: do we want this program to be on some server or a website? Will this program have a graphical user interface? Will this cipher be part of a larger program? Since we don't know Python well yet, we will pick the simplest functionality for this cipher: it takes a string in the console and returns a encrypted/decrypted string. The user should be given the option between encryption or decryption.</li>\n",
    "    <li>Which features might we want to add to this program in future? This is an important question because if we decide to make this program part of a larger program in future, we have to make an API (application programming interface) for it. API is simply the way we let other programmers (or the original programmer in future) use our program. When you use printf in C, you're basically using the API of a library (stdio) in which printf is defined. Instead of using the functions in that library, you simply use the printf function. Everything else is handled by the library itself. Since we will be using this cipher as a part of another program in future, we have to make a nice API for our program. This means that when your module is imported into another project, the user will have to use only a couple of functions from your module. In our case, one function encrypts and the other decrypts.</li>\n",
    "    <li>The outline of the solution: we need to specify now how we will encrypt and decrypt the strings that the user gives us.</li>\n",
    "    <li>Detailed solution: which encryption algorithm are we going to use? What data structures do we need?</li>\n",
    "    <li>The pseudocode: how do we break the solution into functions?</li>\n",
    "    <li>Designing tests: we need to design tests for each function so that we know exactly what the function does and if the function does really what we need it to? Also, coding functions this way will help us get rid of most bugs before they even occur.</li>\n",
    "    <li>Writing Python code for the functions and testing the functions: now we can start coding.</li>\n",
    "</ol>"
   ]
  },
  {
   "cell_type": "markdown",
   "metadata": {},
   "source": [
    "###Functions: Intro\n",
    "Functions are very flexible abstractions in Python:\n",
    "* We don't specify what a function returns in the function definition. But, we do that in the docstrings.\n",
    "* We don't specify the type of function parameters.\n",
    "* Functions can return more than one object.\n",
    "* Since functions are objects themselves, we can pass a function to another function as a parameter(advanced usage of Python)."
   ]
  },
  {
   "cell_type": "code",
   "execution_count": 6,
   "metadata": {},
   "outputs": [],
   "source": [
    "def func1(param1, param2):\n",
    "    \"\"\"\n",
    "    param1: an integer\n",
    "    param2: an integer\n",
    "    returns: this is a test func does nothing special\n",
    "    \"\"\"\n",
    "    if param1:\n",
    "        return param1\n",
    "    elif param2:\n",
    "        return str(param1) + '' + str(param2)\n",
    "    else:\n",
    "        return 'Nothing passed to the function!'"
   ]
  },
  {
   "cell_type": "markdown",
   "metadata": {},
   "source": [
    "What comes between \"\"\" is called a docstring. Docstrings serve as a contract between the author of the function and the user of the function. Basically, you tell the user that if the parameters passed to the function match the specification, then the uesr is guaranteed to receive what is specified as returns.<br>\n",
    "The user of your function can quickly find out what your function does using the `help` function:"
   ]
  },
  {
   "cell_type": "code",
   "execution_count": 7,
   "metadata": {},
   "outputs": [
    {
     "name": "stdout",
     "output_type": "stream",
     "text": [
      "Help on function func1 in module __main__:\n",
      "\n",
      "func1(param1, param2)\n",
      "    param1: an integer\n",
      "    param2: an integer\n",
      "    returns: this is a test func does nothing special\n",
      "\n"
     ]
    }
   ],
   "source": [
    "help(func1)"
   ]
  },
  {
   "cell_type": "markdown",
   "metadata": {},
   "source": [
    "The docstring should be everything a user needs to use your function. The user does not care how you've implemented the function unless you've done something clever or tricky or used some specific function that affects the running time of the function drastically. In such cases you only mention briefly (in less than a line) the approcach you've used to code the function.<br>\n",
    "Here's list of things the docstring should do:\n",
    "1. Specify the type of function parameters, for example `param1 is an integer`.\n",
    "2. What are your assumptions about function parameters, for example `param1 is an int and > 0`.\n",
    "3. Return type, for example `returns a float which is param1 ** 2`.\n",
    "4. Exceptions that your function might throw: we'll come back to this later.<br>\n",
    "###Exercise 8\n",
    "To get some practice on functions, take a look at <a href=\"https://github.com/mikaeilorfanian/BeginnerPythonDevelopment/tree/master/sorting_algorithms\">this</a>. Please make docstrings for the files that do not have any documentation.\n",
    "\n",
    "####Previous Exercises Solutions\n",
    "The solutions to exercises 1 to 6 are <a href=\"https://github.com/mikaeilorfanian/BeginnerPythonDevelopment/blob/master/ProgrammingDoneRightBlog/Tutorial%203%20Exercise%20Solutions.py\">here</a>.\n",
    "###More on Functions\n",
    "####Scope"
   ]
  },
  {
   "cell_type": "code",
   "execution_count": 1,
   "metadata": {},
   "outputs": [
    {
     "data": {
      "text/plain": [
       "4"
      ]
     },
     "execution_count": 1,
     "output_type": "execute_result",
     "metadata": {}
    }
   ],
   "source": [
    "a = 2\n",
    "def f(x):\n",
    "    return x + a\n",
    "f(a)"
   ]
  },
  {
   "cell_type": "code",
   "execution_count": 2,
   "metadata": {},
   "outputs": [
    {
     "data": {
      "text/plain": [
       "19"
      ]
     },
     "execution_count": 2,
     "output_type": "execute_result",
     "metadata": {}
    }
   ],
   "source": [
    "x = 12\n",
    "def f(x):\n",
    "    x = x + 1\n",
    "    def g(y):\n",
    "        return x + y\n",
    "    return g(6)\n",
    "f(x)"
   ]
  },
  {
   "cell_type": "code",
   "execution_count": 3,
   "metadata": {},
   "outputs": [],
   "source": [
    "def foo(x):\n",
    "    def bar(x):\n",
    "        return x + 1\n",
    "    return bar(x * 2)"
   ]
  },
  {
   "cell_type": "code",
   "execution_count": 4,
   "metadata": {},
   "outputs": [],
   "source": [
    "def foo(x):\n",
    "    def bar(z):\n",
    "        return z + x\n",
    "    return bar(3)"
   ]
  },
  {
   "cell_type": "markdown",
   "metadata": {},
   "source": [
    "###Exercise 9\n",
    "Define a function `isVowel(char)` that returns `True` if char is a vowel ('a', 'e', 'i', 'o', or 'u'), and `False` otherwise. You can assume that char is a single letter of any case (ie, 'A' and 'a' are both valid). Don't forget the docstrings!"
   ]
  },
  {
   "cell_type": "markdown",
   "metadata": {},
   "source": [
    "###Exercise 10\n",
    "Assume `s` is a string of lower case characters.\n",
    "\n",
    "Write a program that prints the number of times the string `'bob'` occurs in `s`. For example, if `s = 'azcbobobegghakl'`, then your program should print\n",
    "\n",
    "`Number of times bob occurs is: 2`"
   ]
  },
  {
   "cell_type": "markdown",
   "metadata": {},
   "source": [
    "###Exercise 11\n",
    "Assume `s` is a string of lower case characters.\n",
    "\n",
    "Write a program that prints the longest substring of `s` in which the letters occur in alphabetical order. For example, if `s = 'azcbobobegghakl'`, then your program should print\n",
    "\n",
    "`Longest substring in alphabetical order is: beggh`\n",
    "In the case of ties, print the first substring. For example, if `s = 'abcbcd'`, then your program should print\n",
    "\n",
    "`Longest substring in alphabetical order is: abc`"
   ]
  },
  {
   "cell_type": "markdown",
   "metadata": {},
   "source": [
    "###Functions and Abstraction\n",
    "Functions provide a way fo us to abstract things in our program. But, what do we mean by abstraction?<br>\n",
    "Abstraction means giving a name to some process or thing. In our cipher, we gave the name encrypt to a function or process that took a string and encrypted it. But, why do we need to do this?\n",
    "1. Abstractions make coding much easier. Instead of repeating the same piece of code, we give it a name and use the function name!\n",
    "2. Abstractions can be put together to build other abstractions. Our cipher used a few already defined abstractions like the string.find() mehtod. The print statement and function is also an abstraction.<br>"
   ]
  },
  {
   "cell_type": "markdown",
   "metadata": {},
   "source": [
    "Abstractions need not be only functions. Variables also abstract. In our cipher, we decided to put the all lowercase and uppercase letters into one convenient variable called `alphabet`. That single design choice made understanding the cipher algorithm much easier and coding it more efficient. Every time we use `alphabet` in writing the code or explaining it to someone else, we meant \"the collection of all uppercase and lowercase English letters\"."
   ]
  },
  {
   "cell_type": "markdown",
   "metadata": {},
   "source": [
    "####Tip: String formatting\n",
    "String formatting means a bunch of ways you can manipulate strings in Python to make other strings.<br>\n",
    "Here, I want to show you how you can make a string that it made up of variables.<br>\n",
    "The below piece of code is inconvenient:"
   ]
  },
  {
   "cell_type": "code",
   "execution_count": 9,
   "metadata": {},
   "outputs": [
    {
     "name": "stdout",
     "output_type": "stream",
     "text": [
      "The sum of 2 and 3 is 5.\n"
     ]
    }
   ],
   "source": [
    "x = 2\n",
    "y = 3\n",
    "sum = x + y\n",
    "message = 'The sum of ' + str(x) + ' and ' + str(y) + ' is ' + str(sum) + '.'\n",
    "print message"
   ]
  },
  {
   "cell_type": "markdown",
   "metadata": {},
   "source": [
    "My fingers hurt after typing this. I thought Python made things easier!<br>\n",
    "Well, there is a much easier way to do this:"
   ]
  },
  {
   "cell_type": "code",
   "execution_count": 10,
   "metadata": {},
   "outputs": [
    {
     "name": "stdout",
     "output_type": "stream",
     "text": [
      "The sum of 2 and 3 is 5.\n",
      "Hell yeah!\n"
     ]
    }
   ],
   "source": [
    "x = 2\n",
    "y = 3\n",
    "sum = x + y\n",
    "message = \"The sum of {} and {} is {}.\".format(x, y, sum)\n",
    "print message\n",
    "print 'Hell yeah!'"
   ]
  },
  {
   "cell_type": "markdown",
   "metadata": {},
   "source": [
    "####Global Variables or Constants\n",
    "As we will soon learn, in Python there are no private, protected, and public variables. What we have in Python is scopes. I hope that you know that the scope of function parameters is only within that function. This means that all the variables you've made inside a function die when the function returns something or does its job.<br>\n",
    "So, how do you make a variable that is available to all functions and methods within classes in the whole module?<br>\n",
    "First, you need to follow conventions:<br>\n",
    "1. Make the global variable names all capital.\n",
    "2. Define them at the top of the program under your import statements\n",
    "3. Don't change them within your program. Use other variables.\n",
    "4. Try your best not to use them. There's almost some way you can avoid using them.\n"
   ]
  },
  {
   "cell_type": "code",
   "execution_count": 11,
   "metadata": {},
   "outputs": [
    {
     "name": "stdout",
     "output_type": "stream",
     "text": [
      "('circle area with radius 5:', 78.53981633974475)\n",
      "('circumference with radius 5:', 31.4159265358979)\n"
     ]
    }
   ],
   "source": [
    "PI = 3.14159265358979   # global constant -- only place the value of PI is set\n",
    "\n",
    "def circle_area(radius):\n",
    "    return PI*radius*radius    # use value of global constant PI\n",
    "\n",
    "def circle_circumference(radius):\n",
    "    return 2*PI*radius         # use value of global constant PI\n",
    "\n",
    "def main():\n",
    "    print('circle area with radius 5:', circleArea(5))\n",
    "    print('circumference with radius 5:', circleCircumference(5))\n",
    "\n",
    "main()"
   ]
  },
  {
   "cell_type": "markdown",
   "metadata": {},
   "source": [
    "####A Note on Naming Functions and Variables\n",
    "This is another coding style tip. There are a couple of guidelines on how you should style your function and variables names if they are more than one word. For example, we've chosen a variable name to be `alphabet length`. There are two ways of styling such a name:<br>\n",
    "1. `alphabetLength`<br>\n",
    "2. `alphabet_length`<br>\n",
    "The second way is more Pythonic. Both styles, however, are very popular. I've chosen to follow the second style."
   ]
  },
  {
   "cell_type": "markdown",
   "metadata": {},
   "source": [
    "####If Statement Digression\n",
    "If statements in C++ and Java are too complicated for no real reason. For example, if you want to check whether a string is empty, you have to say something like `if string == '' then do this`. In Python, we can check all kinds of boolean conditions with just two words:"
   ]
  },
  {
   "cell_type": "code",
   "execution_count": 1,
   "metadata": {},
   "outputs": [
    {
     "name": "stdout",
     "output_type": "stream",
     "text": [
      "yes\n",
      "yes\n",
      "yes\n",
      "yes\n"
     ]
    }
   ],
   "source": [
    "x = 2\n",
    "if x:\n",
    "    print 'yes' # prints if x is not zero\n",
    "\n",
    "string = 'a'\n",
    "if string:\n",
    "    print 'yes' # prints if string is not empty\n",
    "    \n",
    "l = range(2)\n",
    "if l:\n",
    "    print 'yes' # prints if l is not empty\n",
    "    \n",
    "a = True\n",
    "if a:\n",
    "    print 'yes' # print if a is equal to True"
   ]
  },
  {
   "cell_type": "markdown",
   "metadata": {},
   "source": [
    "####Default Parameter Values\n",
    "Giving parameters of a function default values is very similar to other languages.<br>"
   ]
  },
  {
   "cell_type": "code",
   "execution_count": 4,
   "metadata": {},
   "outputs": [
    {
     "name": "stdout",
     "output_type": "stream",
     "text": [
      "0\n",
      "1\n",
      "2\n",
      "3\n",
      "\n",
      "0 1 2 3\n"
     ]
    }
   ],
   "source": [
    "def print_list(l, same_line=False):\n",
    "    \"\"\"\n",
    "    l is a list of number.\n",
    "    print the elements of l on the same line if same_line=True\n",
    "    print the elements of l in a column by default\n",
    "    \"\"\"\n",
    "    if same_line:\n",
    "        for elem in l:\n",
    "            print elem,\n",
    "    else:\n",
    "        for elem in l:\n",
    "            print elem\n",
    "            \n",
    "a = range(4)\n",
    "print_list(a)\n",
    "print\n",
    "print_list(a, True)"
   ]
  },
  {
   "cell_type": "markdown",
   "metadata": {},
   "source": [
    "Note: you cannot define a function whose parameter with a default value is follow by a parameter without a default value. This makes logical sense."
   ]
  },
  {
   "cell_type": "code",
   "execution_count": 5,
   "metadata": {},
   "outputs": [
    {
     "ename": "SyntaxError",
     "evalue": "non-default argument follows default argument (<ipython-input-5-87044020d970>, line 1)",
     "output_type": "error",
     "traceback": [
      "\u001b[0;36m  File \u001b[0;32m\"<ipython-input-5-87044020d970>\"\u001b[0;36m, line \u001b[0;32m1\u001b[0m\n\u001b[0;31m    def wrong_func(param1=True, param2):\u001b[0m\n\u001b[0;31mSyntaxError\u001b[0m\u001b[0;31m:\u001b[0m non-default argument follows default argument\n"
     ]
    }
   ],
   "source": [
    "def wrong_func(param1=True, param2):\n",
    "    if param1:\n",
    "        print str(param2)\n",
    "\n",
    "wrong_func(23)"
   ]
  },
  {
   "cell_type": "markdown",
   "metadata": {},
   "source": [
    "<br>\n",
    "What I'm going to cover now might be too advanced for you especially if you don't have much programming experience. But, functions in Python are much more powerful than functions in other languages like Java and C++. That's why I want to show you some of the advanced ways in which Python's functions can be used."
   ]
  },
  {
   "cell_type": "markdown",
   "metadata": {},
   "source": [
    "###Functions as Objects\n",
    "Functions are first class objects in Python meaning that they can be assigned to variables and passed to other functions.<br>\n",
    "Sometimes, you have a function whose name is very long and you want to make it convenient to use that function within a block of code. So, you assign that function to a variable within that block of code and use the short name instead of the long name. When the block is out of scope, the short name for the function disappears, but not the long name.<br>"
   ]
  },
  {
   "cell_type": "code",
   "execution_count": 9,
   "metadata": {},
   "outputs": [
    {
     "name": "stdout",
     "output_type": "stream",
     "text": [
      "[0, 1, 2, 3, 4, 5, 6, 7, 8, 9]\n",
      "[0, 1, 4, 9, 16, 25, 36, 49, 64, 81]\n"
     ]
    }
   ],
   "source": [
    "def func_that_squares_a_number(num):\n",
    "    return num ** 2\n",
    "\n",
    "L = range(10)\n",
    "new_L = []\n",
    "for number in L:\n",
    "    short_name = func_that_squares_a_number\n",
    "    new_L.append(short_name(number))\n",
    "print L\n",
    "print new_L"
   ]
  },
  {
   "cell_type": "markdown",
   "metadata": {},
   "source": [
    "Another thing we can do with functions is making them *higher order functions*. This means that we pass one function as a parameter of another function. For example, we can make the previous for loop much more flexible so that it takes a list and a function and applies that function to every element of that list.<br>"
   ]
  },
  {
   "cell_type": "code",
   "execution_count": 18,
   "metadata": {},
   "outputs": [
    {
     "name": "stdout",
     "output_type": "stream",
     "text": [
      "[1, 2, 3, 4, 5]\n",
      "[1, 4, 9, 16, 25]\n"
     ]
    }
   ],
   "source": [
    "def square(num):\n",
    "    return num ** 2\n",
    "\n",
    "def apply_to_list(L, f):\n",
    "    \"\"\"\n",
    "    f is a function\n",
    "    L is a list of elements\n",
    "    Mutates L by replacing each element e of L by f(e)\n",
    "    \"\"\"\n",
    "    for index in range(len(L)):\n",
    "        L[index] = f(L[index])\n",
    "\n",
    "nums = range(1, 6)\n",
    "print nums\n",
    "apply_to_list(nums, square)\n",
    "print nums"
   ]
  },
  {
   "cell_type": "markdown",
   "metadata": {},
   "source": [
    "####Polymorphic Functions\n",
    "Making functions polymorphic is such a big pain in C++ and Java that most people avoid this topic. The reason for this is that in these languages function parameters and return values have types.<br>\n",
    "As you know by now, Python doesn't use types. So, making a function polymorphic does not include any more steps than defining regular function.<br>\n",
    "Let's see this in action: we want to make a function that checks the value of a variable."
   ]
  },
  {
   "cell_type": "code",
   "execution_count": 38,
   "metadata": {},
   "outputs": [
    {
     "name": "stdout",
     "output_type": "stream",
     "text": [
      "True\n",
      "False\n",
      "False\n"
     ]
    }
   ],
   "source": [
    "def check_ty(val_type, var):\n",
    "    return val_type == type(var)\n",
    "\n",
    "a = 2\n",
    "b = 2.0\n",
    "print check_type(int, a)\n",
    "print check_type(int, b)\n",
    "print check_type(float, a)"
   ]
  },
  {
   "cell_type": "markdown",
   "metadata": {},
   "source": [
    "###Exercise 12\n",
    "Write a function that finds all the prime numbers between 0 and user input."
   ]
  },
  {
   "cell_type": "code",
   "metadata": {},
   "outputs": [],
   "source": [
    ""
   ]
  }
 ],
 "metadata": {
  "kernelspec": {
   "display_name": "Python 2",
   "language": "python",
   "name": "python2"
  },
  "language_info": {
   "codemirror_mode": {
    "name": "ipython",
    "version": 2.0
   },
   "file_extension": ".py",
   "mimetype": "text/x-python",
   "name": "python",
   "nbconvert_exporter": "python",
   "pygments_lexer": "ipython2",
   "version": "2.7.9"
  }
 },
 "nbformat": 4,
 "nbformat_minor": 0
}